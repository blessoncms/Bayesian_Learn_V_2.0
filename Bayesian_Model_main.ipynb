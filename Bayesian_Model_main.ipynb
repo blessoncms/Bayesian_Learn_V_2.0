{
  "cells": [
    {
      "cell_type": "code",
      "source": [
        "import pandas as pd\n",
        "import numpy as np\n",
        "from statistics import mean, stdev\n",
        "from sklearn.model_selection import train_test_split\n",
        "import requests\n",
        "import socket  "
      ],
      "outputs": [],
      "execution_count": 1,
      "metadata": {}
    },
    {
      "cell_type": "raw",
      "source": [
        "# Seting Data \n",
        "#function for save result and send"
      ],
      "metadata": {}
    },
    {
      "cell_type": "code",
      "source": [
        "def Save_Data(File_Name,File_Path,XX,Telegram=False):\n",
        "\tFile_name=File_Path+File_Name+\".csv\"\n",
        "\tXX.to_csv(File_name, header=True, index=False)\n",
        "\n",
        "\tif(Telegram==True):\n",
        "\t\tMy_Name=\"**\"+socket.gethostname()+\"**\"\n",
        "\t\tdata=\"Hi I am Mr.Bean-I\\n From \"+My_Name+\" Computer \\n \\n \\n\"\n",
        "\t\tdata=data+\"**\"+File_Name+\"**\\n \"\n",
        "\t\tdata=data+'\\n Number Trails: '+str(len(XX[\"Best_Test_CF\"]))+'\\n\\n'\n",
        "\n",
        "\t\tdata=data+'=======Testing Data=======\\n\\n'\n",
        "\t\tdata=data+'\\n Maximum Accuracy: '+str(max(XX[\"Best_Test_CF\"])*100)+'%'\n",
        "\t\tdata=data+'\\n Minimum Accuracy: '+str(min(XX[\"Best_Test_CF\"])*100)+'%'\n",
        "\t\tdata=data+'\\n Overall Accuracy: '+str(mean(XX[\"Best_Test_CF\"])*100)+'%'\n",
        "\t\tdata=data+'\\n Standard Deviation is: '+str(stdev(XX[\"Best_Test_CF\"]))\n",
        "\n",
        "\t\tdata=data+'\\n\\n=======Training Data=======\\n\\n'\n",
        "\t\tdata=data+'\\n Maximum Accuracy: '+str(max(XX[\"Best_Train_CF\"])*100)+'%'\n",
        "\t\tdata=data+'\\n Minimum Accuracy: '+str(min(XX[\"Best_Train_CF\"])*100)+'%'\n",
        "\t\tdata=data+'\\n Overall Accuracy: '+str(mean(XX[\"Best_Train_CF\"])*100)+'%'\n",
        "\t\tdata=data+'\\n Standard Deviation is: '+str(stdev(XX[\"Best_Train_CF\"]))\n",
        "\t\tmy_Url=\"https://api.telegram.org/bot1865173248:AAHzWF-qIewC0xSlzEru8ldVj2D-HgLPNvk/sendMessage?chat_id=-1001204917709&text=\"+data\n",
        "\t\trequests.get(my_Url)\n",
        "\telse:\n",
        "\t\tprint('\\n Number Trails: '+str(len(XX[\"Best_Test_CF\"]))+'\\n\\n')\n",
        "\t\tprint('\\n\\n=======Testing Data=======\\n\\n')\n",
        "\t\tprint('\\n Maximum Accuracy: '+str(max(XX[\"Best_Test_CF\"])*100)+'%')\n",
        "\t\tprint('\\n Minimum Accuracy: '+str(min(XX[\"Best_Test_CF\"])*100)+'%')\n",
        "\t\tprint('\\n Overall Accuracy: '+str(mean(XX[\"Best_Test_CF\"])*100)+'%')\n",
        "\t\tprint('\\n Standard Deviation is: '+str(stdev(XX[\"Best_Test_CF\"])))\n",
        "\n",
        "\t\tprint('\\n\\n=======Training Data=======\\n\\n')\n",
        "\t\tprint('\\n Maximum Accuracy: '+str(max(XX[\"Best_Train_CF\"])*100)+'%')\n",
        "\t\tprint('\\n Minimum Accuracy: '+str(min(XX[\"Best_Train_CF\"])*100)+'%')\n",
        "\t\tprint('\\n Overall Accuracy: '+str(mean(XX[\"Best_Train_CF\"])*100)+'%')\n",
        "\t\tprint('\\n Standard Deviation is: '+str(stdev(XX[\"Best_Train_CF\"])))\n",
        "\n",
        "\n",
        "\n",
        "###################################################\n",
        "Result_File_Path= \"./results/\"\n",
        "#Data_File_Name='balance_scale_data'\n",
        "Data_File_Name='glass_data\"\n",
        "CSV_Input_File_path=\"./Training_Data_Files/\"\n",
        "Data_df=pd.read_csv(CSV_Input_File_path+Data_File_Name+\".csv\",header=None)\n",
        "rows = len(Data_df.axes[0])\n",
        "cols = len(Data_df.axes[1])\n",
        "Number_of_Features=cols-1\n",
        "print(\"===========About the Data===========\")\n",
        "print(\"Number of Datas: \" + str(rows))\n",
        "print(\"Number of Features: \" + str(Number_of_Features))\n",
        "names=[]\n",
        "for i in range(Number_of_Features):\n",
        "\tnames.append('Feature-'+str(i+1))\n",
        "names.insert(0,'Class')\n",
        "Data_df.columns=names\n",
        "\n",
        "Data_X=np.array(Data_df.drop('Class', axis=1))\n",
        "Data_Y=np.array(Data_df.iloc[:,0])"
      ],
      "outputs": [
        {
          "output_type": "error",
          "ename": "SyntaxError",
          "evalue": "EOL while scanning string literal (2065790056.py, line 43)",
          "traceback": [
            "\u001b[0;36m  File \u001b[0;32m\"/tmp/ipykernel_27262/2065790056.py\"\u001b[0;36m, line \u001b[0;32m43\u001b[0m\n\u001b[0;31m    Data_File_Name='glass_data\"\u001b[0m\n\u001b[0m                               ^\u001b[0m\n\u001b[0;31mSyntaxError\u001b[0m\u001b[0;31m:\u001b[0m EOL while scanning string literal\n"
          ]
        }
      ],
      "execution_count": 2,
      "metadata": {}
    },
    {
      "cell_type": "markdown",
      "source": [
        "# PipeLine"
      ],
      "metadata": {}
    },
    {
      "cell_type": "code",
      "source": [
        "from Bayesian_Model import Bayesian_Model_PipeLine\n",
        "BMP1=Bayesian_Model_PipeLine(Res_Lst=[2,3],NFtr_Con_Lst=[2,3],Alp_Lst=[0.1,0.2],Epoch=10)\n",
        "xx=BMP1.Estimator(Data_X,Data_Y,NTest=20)\n",
        "#Save_Data(Data_File_Name,Result_File_Path,xx,Telegram=True)\n",
        "Save_Data(Data_File_Name,Result_File_Path,xx,Telegram=False)"
      ],
      "outputs": [],
      "execution_count": null,
      "metadata": {}
    },
    {
      "cell_type": "markdown",
      "source": [
        "# Simple Teain and test"
      ],
      "metadata": {}
    },
    {
      "cell_type": "code",
      "source": [
        "from Bayesian_Model import Bayesian_Model\n",
        "X_train,X_test,Y_train,Y_test=train_test_split(Data_X,Data_Y,test_size=0.2,stratify=Data_Y,shuffle=True,random_state=4)\n",
        "Bx1=Bayesian_Model(Resolution=6,Number_of_Feature_Connections=2,alpha=0.5)\n",
        "Bx1.fit(X_train,Y_train,10)\n",
        "print(\"Train Cost Factor\",Bx1.Train_Cost_Factor)\n",
        "Bx1.predict_data_set(X_test,Y_test)\n",
        "print(\"Test Cost Factor\",Bx1.Test_Cost_Factor)\n",
        "Bx1.predict_object(X_test[0],Model=\"Best\")"
      ],
      "outputs": [],
      "execution_count": null,
      "metadata": {}
    },
    {
      "cell_type": "code",
      "source": [],
      "outputs": [],
      "execution_count": null,
      "metadata": {}
    }
  ],
  "metadata": {
    "kernelspec": {
      "display_name": "Python 3 (ipykernel)",
      "language": "python",
      "name": "python3"
    },
    "language_info": {
      "codemirror_mode": {
        "name": "ipython",
        "version": 3
      },
      "file_extension": ".py",
      "mimetype": "text/x-python",
      "name": "python",
      "nbconvert_exporter": "python",
      "pygments_lexer": "ipython3",
      "version": "3.8.10"
    },
    "nteract": {
      "version": "0.15.0"
    }
  },
  "nbformat": 4,
  "nbformat_minor": 5
}